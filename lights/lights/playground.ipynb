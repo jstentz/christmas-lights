{
 "cells": [
  {
   "cell_type": "code",
   "execution_count": 1,
   "metadata": {},
   "outputs": [],
   "source": [
    "import ast"
   ]
  },
  {
   "cell_type": "code",
   "execution_count": 2,
   "metadata": {},
   "outputs": [
    {
     "data": {
      "text/plain": [
       "<ast.Module at 0x7f187024cb50>"
      ]
     },
     "execution_count": 2,
     "metadata": {},
     "output_type": "execute_result"
    }
   ],
   "source": [
    "with open('./animations/untrusted/ai.py') as f:\n",
    "  p = ast.parse(f.read())\n",
    "p"
   ]
  },
  {
   "cell_type": "code",
   "execution_count": 51,
   "metadata": {},
   "outputs": [],
   "source": [
    "from lights.animations.base import BaseAnimation\n",
    "from typing import Dict\n",
    "import json\n",
    "\n",
    "def get_init_func(parsed_animation: ast.Module) -> ast.FunctionDef | None:\n",
    "  for node in parsed_animation.body:\n",
    "    if isinstance(node, ast.ClassDef):\n",
    "      for child_node in node.body:\n",
    "        if isinstance(child_node, ast.FunctionDef) and child_node.name == '__init__':\n",
    "          return child_node\n",
    "  return None\n",
    "\n",
    "# Assumes 1 and only 1 BaseAnimation class is defined in the source file\n",
    "def get_animation_parameters(animation_source: str) -> Dict | None:\n",
    "  parsed = ast.parse(animation_source)\n",
    "  \n",
    "  init_function = get_init_func(parsed)\n",
    "  if init_function is None:\n",
    "    return None\n",
    "  \n",
    "  args = init_function.args\n",
    "\n",
    "  return {arg.arg: json.dumps(ast.literal_eval(value)) for arg, value in zip(args.kwonlyargs, args.kw_defaults)}\n"
   ]
  },
  {
   "cell_type": "code",
   "execution_count": 52,
   "metadata": {},
   "outputs": [
    {
     "data": {
      "text/plain": [
       "{'fps': 'null', 'intensity': '1.0', 'color': '[255, 255, 255]'}"
      ]
     },
     "execution_count": 52,
     "metadata": {},
     "output_type": "execute_result"
    }
   ],
   "source": [
    "with open('./animations/untrusted/ai.py') as f:\n",
    "  s = f.read()\n",
    "\n",
    "get_animation_parameters(s)"
   ]
  },
  {
   "cell_type": "code",
   "execution_count": null,
   "metadata": {},
   "outputs": [],
   "source": []
  }
 ],
 "metadata": {
  "kernelspec": {
   "display_name": ".venv",
   "language": "python",
   "name": "python3"
  },
  "language_info": {
   "codemirror_mode": {
    "name": "ipython",
    "version": 3
   },
   "file_extension": ".py",
   "mimetype": "text/x-python",
   "name": "python",
   "nbconvert_exporter": "python",
   "pygments_lexer": "ipython3",
   "version": "3.11.7"
  },
  "orig_nbformat": 4
 },
 "nbformat": 4,
 "nbformat_minor": 2
}
