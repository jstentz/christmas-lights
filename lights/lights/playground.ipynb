{
 "cells": [
  {
   "cell_type": "code",
   "execution_count": 1,
   "metadata": {},
   "outputs": [],
   "source": [
    "from lights.controller import NAME_TO_CONTROLLER"
   ]
  },
  {
   "cell_type": "code",
   "execution_count": 2,
   "metadata": {},
   "outputs": [
    {
     "data": {
      "text/plain": [
       "{'TerminalController': <function lights.controller.get_lazy_loaders.<locals>.<lambda>(module_name='terminal', node=<ast.ClassDef object at 0x7fa8cd82f8e0>)>,\n",
       " 'GuiController': <function lights.controller.get_lazy_loaders.<locals>.<lambda>(module_name='gui', node=<ast.ClassDef object at 0x7fa8cd846f20>)>,\n",
       " 'MatplotlibController': <function lights.controller.get_lazy_loaders.<locals>.<lambda>(module_name='3d', node=<ast.ClassDef object at 0x7fa8cd82e680>)>,\n",
       " 'NoopController': <function lights.controller.get_lazy_loaders.<locals>.<lambda>(module_name='noop', node=<ast.ClassDef object at 0x7fa8cd82fd90>)>,\n",
       " 'SerialController': <function lights.controller.get_lazy_loaders.<locals>.<lambda>(module_name='serial', node=<ast.ClassDef object at 0x7fa8cd82eec0>)>}"
      ]
     },
     "execution_count": 2,
     "metadata": {},
     "output_type": "execute_result"
    }
   ],
   "source": [
    "NAME_TO_CONTROLLER"
   ]
  },
  {
   "cell_type": "code",
   "execution_count": 3,
   "metadata": {},
   "outputs": [
    {
     "data": {
      "text/plain": [
       "lights.controller.terminal.TerminalController"
      ]
     },
     "execution_count": 3,
     "metadata": {},
     "output_type": "execute_result"
    }
   ],
   "source": [
    "NAME_TO_CONTROLLER['TerminalController']()"
   ]
  },
  {
   "cell_type": "code",
   "execution_count": 4,
   "metadata": {},
   "outputs": [
    {
     "data": {
      "text/plain": [
       "lights.controller.3d.MatplotlibController"
      ]
     },
     "execution_count": 4,
     "metadata": {},
     "output_type": "execute_result"
    }
   ],
   "source": [
    "NAME_TO_CONTROLLER['MatplotlibController']()"
   ]
  },
  {
   "cell_type": "code",
   "execution_count": null,
   "metadata": {},
   "outputs": [],
   "source": []
  }
 ],
 "metadata": {
  "kernelspec": {
   "display_name": ".venv",
   "language": "python",
   "name": "python3"
  },
  "language_info": {
   "codemirror_mode": {
    "name": "ipython",
    "version": 3
   },
   "file_extension": ".py",
   "mimetype": "text/x-python",
   "name": "python",
   "nbconvert_exporter": "python",
   "pygments_lexer": "ipython3",
   "version": "3.11.7"
  },
  "orig_nbformat": 4
 },
 "nbformat": 4,
 "nbformat_minor": 2
}
